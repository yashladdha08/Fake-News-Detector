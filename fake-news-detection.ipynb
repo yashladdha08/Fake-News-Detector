{
 "cells": [
  {
   "cell_type": "markdown",
   "id": "87ff9f49",
   "metadata": {
    "papermill": {
     "duration": 0.030864,
     "end_time": "2022-07-05T08:57:11.244640",
     "exception": false,
     "start_time": "2022-07-05T08:57:11.213776",
     "status": "completed"
    },
    "tags": []
   },
   "source": [
    "# Fake News Detection Using LSTM"
   ]
  },
  {
   "cell_type": "code",
   "execution_count": 1,
   "id": "17794f0d",
   "metadata": {
    "execution": {
     "iopub.execute_input": "2022-07-05T08:57:11.316331Z",
     "iopub.status.busy": "2022-07-05T08:57:11.315682Z",
     "iopub.status.idle": "2022-07-05T08:57:18.473588Z",
     "shell.execute_reply": "2022-07-05T08:57:18.472987Z",
     "shell.execute_reply.started": "2022-07-05T08:51:43.401786Z"
    },
    "papermill": {
     "duration": 7.198923,
     "end_time": "2022-07-05T08:57:18.473738",
     "exception": false,
     "start_time": "2022-07-05T08:57:11.274815",
     "status": "completed"
    },
    "tags": []
   },
   "outputs": [],
   "source": [
    "## Import Libraries\n",
    "import pandas as pd\n",
    "import numpy as np\n",
    "import matplotlib.pyplot as plt\n",
    "import nltk\n",
    "from nltk.stem import PorterStemmer\n",
    "import re\n",
    "import tensorflow\n",
    "from tensorflow.keras.layers import Embedding, Dense, LSTM\n",
    "from tensorflow.keras.preprocessing.sequence import pad_sequences\n",
    "from tensorflow.keras.models import Sequential\n",
    "from tensorflow.keras.preprocessing.text import one_hot\n",
    "from sklearn.metrics import classification_report,accuracy_score\n",
    "from sklearn.linear_model import LogisticRegression\n",
    "from sklearn.tree import DecisionTreeClassifier\n",
    "from sklearn.ensemble import RandomForestClassifier\n",
    "from xgboost import XGBClassifier\n",
    "from catboost import CatBoostClassifier\n",
    "from sklearn.linear_model import LogisticRegression\n",
    "from sklearn.naive_bayes import MultinomialNB"
   ]
  },
  {
   "cell_type": "code",
   "execution_count": 2,
   "id": "7db01778",
   "metadata": {
    "execution": {
     "iopub.execute_input": "2022-07-05T08:57:18.536146Z",
     "iopub.status.busy": "2022-07-05T08:57:18.535613Z",
     "iopub.status.idle": "2022-07-05T08:57:19.386890Z",
     "shell.execute_reply": "2022-07-05T08:57:19.386402Z",
     "shell.execute_reply.started": "2022-07-05T08:51:43.489362Z"
    },
    "papermill": {
     "duration": 0.883679,
     "end_time": "2022-07-05T08:57:19.387056",
     "exception": false,
     "start_time": "2022-07-05T08:57:18.503377",
     "status": "completed"
    },
    "tags": []
   },
   "outputs": [],
   "source": [
    "## This is the test Data\n",
    "test_data = pd.read_csv('../input/fake-news/test.csv')"
   ]
  },
  {
   "cell_type": "code",
   "execution_count": 3,
   "id": "2b95afc7",
   "metadata": {
    "execution": {
     "iopub.execute_input": "2022-07-05T08:57:19.450068Z",
     "iopub.status.busy": "2022-07-05T08:57:19.449474Z",
     "iopub.status.idle": "2022-07-05T08:57:21.999654Z",
     "shell.execute_reply": "2022-07-05T08:57:21.999169Z",
     "shell.execute_reply.started": "2022-07-05T08:51:43.768782Z"
    },
    "papermill": {
     "duration": 2.582595,
     "end_time": "2022-07-05T08:57:21.999786",
     "exception": false,
     "start_time": "2022-07-05T08:57:19.417191",
     "status": "completed"
    },
    "tags": []
   },
   "outputs": [],
   "source": [
    "## Import dataset\n",
    "\n",
    "df = pd.read_csv('../input/fake-news/train.csv')"
   ]
  },
  {
   "cell_type": "code",
   "execution_count": 4,
   "id": "af640dc0",
   "metadata": {
    "execution": {
     "iopub.execute_input": "2022-07-05T08:57:22.068759Z",
     "iopub.status.busy": "2022-07-05T08:57:22.067947Z",
     "iopub.status.idle": "2022-07-05T08:57:22.080800Z",
     "shell.execute_reply": "2022-07-05T08:57:22.081400Z",
     "shell.execute_reply.started": "2022-07-05T08:51:45.586407Z"
    },
    "papermill": {
     "duration": 0.051427,
     "end_time": "2022-07-05T08:57:22.081575",
     "exception": false,
     "start_time": "2022-07-05T08:57:22.030148",
     "status": "completed"
    },
    "tags": []
   },
   "outputs": [
    {
     "data": {
      "text/html": [
       "<div>\n",
       "<style scoped>\n",
       "    .dataframe tbody tr th:only-of-type {\n",
       "        vertical-align: middle;\n",
       "    }\n",
       "\n",
       "    .dataframe tbody tr th {\n",
       "        vertical-align: top;\n",
       "    }\n",
       "\n",
       "    .dataframe thead th {\n",
       "        text-align: right;\n",
       "    }\n",
       "</style>\n",
       "<table border=\"1\" class=\"dataframe\">\n",
       "  <thead>\n",
       "    <tr style=\"text-align: right;\">\n",
       "      <th></th>\n",
       "      <th>id</th>\n",
       "      <th>title</th>\n",
       "      <th>author</th>\n",
       "      <th>text</th>\n",
       "      <th>label</th>\n",
       "    </tr>\n",
       "  </thead>\n",
       "  <tbody>\n",
       "    <tr>\n",
       "      <th>0</th>\n",
       "      <td>0</td>\n",
       "      <td>House Dem Aide: We Didn’t Even See Comey’s Let...</td>\n",
       "      <td>Darrell Lucus</td>\n",
       "      <td>House Dem Aide: We Didn’t Even See Comey’s Let...</td>\n",
       "      <td>1</td>\n",
       "    </tr>\n",
       "    <tr>\n",
       "      <th>1</th>\n",
       "      <td>1</td>\n",
       "      <td>FLYNN: Hillary Clinton, Big Woman on Campus - ...</td>\n",
       "      <td>Daniel J. Flynn</td>\n",
       "      <td>Ever get the feeling your life circles the rou...</td>\n",
       "      <td>0</td>\n",
       "    </tr>\n",
       "    <tr>\n",
       "      <th>2</th>\n",
       "      <td>2</td>\n",
       "      <td>Why the Truth Might Get You Fired</td>\n",
       "      <td>Consortiumnews.com</td>\n",
       "      <td>Why the Truth Might Get You Fired October 29, ...</td>\n",
       "      <td>1</td>\n",
       "    </tr>\n",
       "    <tr>\n",
       "      <th>3</th>\n",
       "      <td>3</td>\n",
       "      <td>15 Civilians Killed In Single US Airstrike Hav...</td>\n",
       "      <td>Jessica Purkiss</td>\n",
       "      <td>Videos 15 Civilians Killed In Single US Airstr...</td>\n",
       "      <td>1</td>\n",
       "    </tr>\n",
       "    <tr>\n",
       "      <th>4</th>\n",
       "      <td>4</td>\n",
       "      <td>Iranian woman jailed for fictional unpublished...</td>\n",
       "      <td>Howard Portnoy</td>\n",
       "      <td>Print \\nAn Iranian woman has been sentenced to...</td>\n",
       "      <td>1</td>\n",
       "    </tr>\n",
       "  </tbody>\n",
       "</table>\n",
       "</div>"
      ],
      "text/plain": [
       "   id                                              title              author  \\\n",
       "0   0  House Dem Aide: We Didn’t Even See Comey’s Let...       Darrell Lucus   \n",
       "1   1  FLYNN: Hillary Clinton, Big Woman on Campus - ...     Daniel J. Flynn   \n",
       "2   2                  Why the Truth Might Get You Fired  Consortiumnews.com   \n",
       "3   3  15 Civilians Killed In Single US Airstrike Hav...     Jessica Purkiss   \n",
       "4   4  Iranian woman jailed for fictional unpublished...      Howard Portnoy   \n",
       "\n",
       "                                                text  label  \n",
       "0  House Dem Aide: We Didn’t Even See Comey’s Let...      1  \n",
       "1  Ever get the feeling your life circles the rou...      0  \n",
       "2  Why the Truth Might Get You Fired October 29, ...      1  \n",
       "3  Videos 15 Civilians Killed In Single US Airstr...      1  \n",
       "4  Print \\nAn Iranian woman has been sentenced to...      1  "
      ]
     },
     "execution_count": 4,
     "metadata": {},
     "output_type": "execute_result"
    }
   ],
   "source": [
    "df.head()"
   ]
  },
  {
   "cell_type": "code",
   "execution_count": 5,
   "id": "1f9d4bee",
   "metadata": {
    "execution": {
     "iopub.execute_input": "2022-07-05T08:57:22.201655Z",
     "iopub.status.busy": "2022-07-05T08:57:22.200835Z",
     "iopub.status.idle": "2022-07-05T08:57:22.218351Z",
     "shell.execute_reply": "2022-07-05T08:57:22.217854Z",
     "shell.execute_reply.started": "2022-07-05T08:51:45.616936Z"
    },
    "papermill": {
     "duration": 0.056587,
     "end_time": "2022-07-05T08:57:22.218463",
     "exception": false,
     "start_time": "2022-07-05T08:57:22.161876",
     "status": "completed"
    },
    "tags": []
   },
   "outputs": [],
   "source": [
    "df[\"merged\"] = df[\"title\"]+\" \"+df[\"author\"]"
   ]
  },
  {
   "cell_type": "code",
   "execution_count": 6,
   "id": "aefab336",
   "metadata": {
    "execution": {
     "iopub.execute_input": "2022-07-05T08:57:22.288985Z",
     "iopub.status.busy": "2022-07-05T08:57:22.288296Z",
     "iopub.status.idle": "2022-07-05T08:57:22.291532Z",
     "shell.execute_reply": "2022-07-05T08:57:22.291931Z",
     "shell.execute_reply.started": "2022-07-05T08:51:45.656139Z"
    },
    "papermill": {
     "duration": 0.043826,
     "end_time": "2022-07-05T08:57:22.292081",
     "exception": false,
     "start_time": "2022-07-05T08:57:22.248255",
     "status": "completed"
    },
    "tags": []
   },
   "outputs": [
    {
     "data": {
      "text/html": [
       "<div>\n",
       "<style scoped>\n",
       "    .dataframe tbody tr th:only-of-type {\n",
       "        vertical-align: middle;\n",
       "    }\n",
       "\n",
       "    .dataframe tbody tr th {\n",
       "        vertical-align: top;\n",
       "    }\n",
       "\n",
       "    .dataframe thead th {\n",
       "        text-align: right;\n",
       "    }\n",
       "</style>\n",
       "<table border=\"1\" class=\"dataframe\">\n",
       "  <thead>\n",
       "    <tr style=\"text-align: right;\">\n",
       "      <th></th>\n",
       "      <th>id</th>\n",
       "      <th>title</th>\n",
       "      <th>author</th>\n",
       "      <th>text</th>\n",
       "      <th>label</th>\n",
       "      <th>merged</th>\n",
       "    </tr>\n",
       "  </thead>\n",
       "  <tbody>\n",
       "    <tr>\n",
       "      <th>0</th>\n",
       "      <td>0</td>\n",
       "      <td>House Dem Aide: We Didn’t Even See Comey’s Let...</td>\n",
       "      <td>Darrell Lucus</td>\n",
       "      <td>House Dem Aide: We Didn’t Even See Comey’s Let...</td>\n",
       "      <td>1</td>\n",
       "      <td>House Dem Aide: We Didn’t Even See Comey’s Let...</td>\n",
       "    </tr>\n",
       "    <tr>\n",
       "      <th>1</th>\n",
       "      <td>1</td>\n",
       "      <td>FLYNN: Hillary Clinton, Big Woman on Campus - ...</td>\n",
       "      <td>Daniel J. Flynn</td>\n",
       "      <td>Ever get the feeling your life circles the rou...</td>\n",
       "      <td>0</td>\n",
       "      <td>FLYNN: Hillary Clinton, Big Woman on Campus - ...</td>\n",
       "    </tr>\n",
       "    <tr>\n",
       "      <th>2</th>\n",
       "      <td>2</td>\n",
       "      <td>Why the Truth Might Get You Fired</td>\n",
       "      <td>Consortiumnews.com</td>\n",
       "      <td>Why the Truth Might Get You Fired October 29, ...</td>\n",
       "      <td>1</td>\n",
       "      <td>Why the Truth Might Get You Fired Consortiumne...</td>\n",
       "    </tr>\n",
       "    <tr>\n",
       "      <th>3</th>\n",
       "      <td>3</td>\n",
       "      <td>15 Civilians Killed In Single US Airstrike Hav...</td>\n",
       "      <td>Jessica Purkiss</td>\n",
       "      <td>Videos 15 Civilians Killed In Single US Airstr...</td>\n",
       "      <td>1</td>\n",
       "      <td>15 Civilians Killed In Single US Airstrike Hav...</td>\n",
       "    </tr>\n",
       "    <tr>\n",
       "      <th>4</th>\n",
       "      <td>4</td>\n",
       "      <td>Iranian woman jailed for fictional unpublished...</td>\n",
       "      <td>Howard Portnoy</td>\n",
       "      <td>Print \\nAn Iranian woman has been sentenced to...</td>\n",
       "      <td>1</td>\n",
       "      <td>Iranian woman jailed for fictional unpublished...</td>\n",
       "    </tr>\n",
       "  </tbody>\n",
       "</table>\n",
       "</div>"
      ],
      "text/plain": [
       "   id                                              title              author  \\\n",
       "0   0  House Dem Aide: We Didn’t Even See Comey’s Let...       Darrell Lucus   \n",
       "1   1  FLYNN: Hillary Clinton, Big Woman on Campus - ...     Daniel J. Flynn   \n",
       "2   2                  Why the Truth Might Get You Fired  Consortiumnews.com   \n",
       "3   3  15 Civilians Killed In Single US Airstrike Hav...     Jessica Purkiss   \n",
       "4   4  Iranian woman jailed for fictional unpublished...      Howard Portnoy   \n",
       "\n",
       "                                                text  label  \\\n",
       "0  House Dem Aide: We Didn’t Even See Comey’s Let...      1   \n",
       "1  Ever get the feeling your life circles the rou...      0   \n",
       "2  Why the Truth Might Get You Fired October 29, ...      1   \n",
       "3  Videos 15 Civilians Killed In Single US Airstr...      1   \n",
       "4  Print \\nAn Iranian woman has been sentenced to...      1   \n",
       "\n",
       "                                              merged  \n",
       "0  House Dem Aide: We Didn’t Even See Comey’s Let...  \n",
       "1  FLYNN: Hillary Clinton, Big Woman on Campus - ...  \n",
       "2  Why the Truth Might Get You Fired Consortiumne...  \n",
       "3  15 Civilians Killed In Single US Airstrike Hav...  \n",
       "4  Iranian woman jailed for fictional unpublished...  "
      ]
     },
     "execution_count": 6,
     "metadata": {},
     "output_type": "execute_result"
    }
   ],
   "source": [
    "df.head()"
   ]
  },
  {
   "cell_type": "markdown",
   "id": "664b775d",
   "metadata": {
    "papermill": {
     "duration": 0.029979,
     "end_time": "2022-07-05T08:57:22.352243",
     "exception": false,
     "start_time": "2022-07-05T08:57:22.322264",
     "status": "completed"
    },
    "tags": []
   },
   "source": [
    "## Basic Analysis"
   ]
  },
  {
   "cell_type": "code",
   "execution_count": 7,
   "id": "d73c873c",
   "metadata": {
    "execution": {
     "iopub.execute_input": "2022-07-05T08:57:22.427009Z",
     "iopub.status.busy": "2022-07-05T08:57:22.426202Z",
     "iopub.status.idle": "2022-07-05T08:57:22.432759Z",
     "shell.execute_reply": "2022-07-05T08:57:22.432349Z",
     "shell.execute_reply.started": "2022-07-05T08:51:45.676711Z"
    },
    "papermill": {
     "duration": 0.050501,
     "end_time": "2022-07-05T08:57:22.432868",
     "exception": false,
     "start_time": "2022-07-05T08:57:22.382367",
     "status": "completed"
    },
    "tags": []
   },
   "outputs": [
    {
     "data": {
      "text/plain": [
       "id           0\n",
       "title      558\n",
       "author    1957\n",
       "text        39\n",
       "label        0\n",
       "merged    2515\n",
       "dtype: int64"
      ]
     },
     "execution_count": 7,
     "metadata": {},
     "output_type": "execute_result"
    }
   ],
   "source": [
    "## Check the Null Values \n",
    "df.isnull().sum()"
   ]
  },
  {
   "cell_type": "markdown",
   "id": "62a18a56",
   "metadata": {
    "papermill": {
     "duration": 0.03037,
     "end_time": "2022-07-05T08:57:22.493402",
     "exception": false,
     "start_time": "2022-07-05T08:57:22.463032",
     "status": "completed"
    },
    "tags": []
   },
   "source": [
    "As you can see there are some **Null Values**. Drop all these Null values because we can not add word by us randomly."
   ]
  },
  {
   "cell_type": "code",
   "execution_count": 8,
   "id": "03919df5",
   "metadata": {
    "execution": {
     "iopub.execute_input": "2022-07-05T08:57:22.567064Z",
     "iopub.status.busy": "2022-07-05T08:57:22.566365Z",
     "iopub.status.idle": "2022-07-05T08:57:22.579478Z",
     "shell.execute_reply": "2022-07-05T08:57:22.579901Z",
     "shell.execute_reply.started": "2022-07-05T08:51:45.704798Z"
    },
    "papermill": {
     "duration": 0.056285,
     "end_time": "2022-07-05T08:57:22.580058",
     "exception": false,
     "start_time": "2022-07-05T08:57:22.523773",
     "status": "completed"
    },
    "tags": []
   },
   "outputs": [],
   "source": [
    "# Drop Null values\n",
    "df = df.dropna()"
   ]
  },
  {
   "cell_type": "code",
   "execution_count": 9,
   "id": "99cf2da6",
   "metadata": {
    "execution": {
     "iopub.execute_input": "2022-07-05T08:57:22.645268Z",
     "iopub.status.busy": "2022-07-05T08:57:22.643765Z",
     "iopub.status.idle": "2022-07-05T08:57:22.648925Z",
     "shell.execute_reply": "2022-07-05T08:57:22.648492Z",
     "shell.execute_reply.started": "2022-07-05T08:51:45.731249Z"
    },
    "papermill": {
     "duration": 0.038803,
     "end_time": "2022-07-05T08:57:22.649057",
     "exception": false,
     "start_time": "2022-07-05T08:57:22.610254",
     "status": "completed"
    },
    "tags": []
   },
   "outputs": [
    {
     "data": {
      "text/plain": [
       "(array([0, 1]), array([10361,  7924]))"
      ]
     },
     "execution_count": 9,
     "metadata": {},
     "output_type": "execute_result"
    }
   ],
   "source": [
    "# Now count the Unique values to check the data is balanced or not\n",
    "count = np.unique(df['label'], return_counts=True)\n",
    "count"
   ]
  },
  {
   "cell_type": "code",
   "execution_count": 10,
   "id": "427cf2b6",
   "metadata": {
    "execution": {
     "iopub.execute_input": "2022-07-05T08:57:22.713927Z",
     "iopub.status.busy": "2022-07-05T08:57:22.713267Z",
     "iopub.status.idle": "2022-07-05T08:57:22.963239Z",
     "shell.execute_reply": "2022-07-05T08:57:22.962487Z",
     "shell.execute_reply.started": "2022-07-05T08:51:45.743267Z"
    },
    "papermill": {
     "duration": 0.283674,
     "end_time": "2022-07-05T08:57:22.963367",
     "exception": false,
     "start_time": "2022-07-05T08:57:22.679693",
     "status": "completed"
    },
    "tags": []
   },
   "outputs": [
    {
     "data": {
      "text/plain": [
       "<AxesSubplot:xlabel='label', ylabel='count'>"
      ]
     },
     "execution_count": 10,
     "metadata": {},
     "output_type": "execute_result"
    },
    {
     "data": {
      "image/png": "[encoded data removed]",
      "text/plain": [
       "<Figure size 432x288 with 1 Axes>"
      ]
     },
     "metadata": {
      "needs_background": "light"
     },
     "output_type": "display_data"
    }
   ],
   "source": [
    "import seaborn as sns\n",
    "sns.countplot(x='label', data = df)"
   ]
  },
  {
   "cell_type": "markdown",
   "id": "7a6efc4c",
   "metadata": {
    "papermill": {
     "duration": 0.030983,
     "end_time": "2022-07-05T08:57:23.027071",
     "exception": false,
     "start_time": "2022-07-05T08:57:22.996088",
     "status": "completed"
    },
    "tags": []
   },
   "source": [
    "As you can see the data is balanced, so we don't need to do something here"
   ]
  },
  {
   "cell_type": "markdown",
   "id": "12eefd79",
   "metadata": {
    "papermill": {
     "duration": 0.034851,
     "end_time": "2022-07-05T08:57:23.099389",
     "exception": false,
     "start_time": "2022-07-05T08:57:23.064538",
     "status": "completed"
    },
    "tags": []
   },
   "source": [
    "**First split the dataset into Dependent and Independent Features**"
   ]
  },
  {
   "cell_type": "code",
   "execution_count": 11,
   "id": "8e9c5eea",
   "metadata": {
    "execution": {
     "iopub.execute_input": "2022-07-05T08:57:23.169467Z",
     "iopub.status.busy": "2022-07-05T08:57:23.167523Z",
     "iopub.status.idle": "2022-07-05T08:57:23.172209Z",
     "shell.execute_reply": "2022-07-05T08:57:23.171716Z",
     "shell.execute_reply.started": "2022-07-05T08:51:45.909684Z"
    },
    "papermill": {
     "duration": 0.040768,
     "end_time": "2022-07-05T08:57:23.172322",
     "exception": false,
     "start_time": "2022-07-05T08:57:23.131554",
     "status": "completed"
    },
    "tags": []
   },
   "outputs": [],
   "source": [
    "# Dependent Features\n",
    "Y = df['label']\n",
    "\n",
    "# Independent Features\n",
    "X = df.drop('label', axis=1)"
   ]
  },
  {
   "cell_type": "markdown",
   "id": "31b6aee6",
   "metadata": {
    "papermill": {
     "duration": 0.031554,
     "end_time": "2022-07-05T08:57:23.236017",
     "exception": false,
     "start_time": "2022-07-05T08:57:23.204463",
     "status": "completed"
    },
    "tags": []
   },
   "source": [
    "## One Hot Representation\n",
    "\n",
    "In this step we change the dataset into Numerical representation"
   ]
  },
  {
   "cell_type": "code",
   "execution_count": 12,
   "id": "04a6e8ff",
   "metadata": {
    "execution": {
     "iopub.execute_input": "2022-07-05T08:57:23.307852Z",
     "iopub.status.busy": "2022-07-05T08:57:23.306287Z",
     "iopub.status.idle": "2022-07-05T08:57:23.308473Z",
     "shell.execute_reply": "2022-07-05T08:57:23.308866Z",
     "shell.execute_reply.started": "2022-07-05T08:51:45.922112Z"
    },
    "papermill": {
     "duration": 0.040789,
     "end_time": "2022-07-05T08:57:23.309017",
     "exception": false,
     "start_time": "2022-07-05T08:57:23.268228",
     "status": "completed"
    },
    "tags": []
   },
   "outputs": [],
   "source": [
    "# make the copy of Dependent Featues and reset the index because we drop the nan values due to this \n",
    "# the index is disturb\n",
    "messages = X.copy()\n",
    "# messages.reset_index(inplace=True)\n"
   ]
  },
  {
   "cell_type": "code",
   "execution_count": 13,
   "id": "6d8e0d8c",
   "metadata": {
    "execution": {
     "iopub.execute_input": "2022-07-05T08:57:23.377838Z",
     "iopub.status.busy": "2022-07-05T08:57:23.376761Z",
     "iopub.status.idle": "2022-07-05T08:57:23.379932Z",
     "shell.execute_reply": "2022-07-05T08:57:23.380454Z",
     "shell.execute_reply.started": "2022-07-05T08:51:45.930377Z"
    },
    "papermill": {
     "duration": 0.040109,
     "end_time": "2022-07-05T08:57:23.380599",
     "exception": false,
     "start_time": "2022-07-05T08:57:23.340490",
     "status": "completed"
    },
    "tags": []
   },
   "outputs": [
    {
     "data": {
      "text/plain": [
       "'FLYNN: Hillary Clinton, Big Woman on Campus - Breitbart'"
      ]
     },
     "execution_count": 13,
     "metadata": {},
     "output_type": "execute_result"
    }
   ],
   "source": [
    "messages['title'][1]"
   ]
  },
  {
   "cell_type": "code",
   "execution_count": 14,
   "id": "d98e718f",
   "metadata": {
    "execution": {
     "iopub.execute_input": "2022-07-05T08:57:23.449560Z",
     "iopub.status.busy": "2022-07-05T08:57:23.448916Z",
     "iopub.status.idle": "2022-07-05T08:57:23.451970Z",
     "shell.execute_reply": "2022-07-05T08:57:23.451534Z",
     "shell.execute_reply.started": "2022-07-05T08:51:45.941189Z"
    },
    "papermill": {
     "duration": 0.03936,
     "end_time": "2022-07-05T08:57:23.452091",
     "exception": false,
     "start_time": "2022-07-05T08:57:23.412731",
     "status": "completed"
    },
    "tags": []
   },
   "outputs": [],
   "source": [
    "messages.reset_index(inplace=True)"
   ]
  },
  {
   "cell_type": "markdown",
   "id": "32572ffb",
   "metadata": {
    "papermill": {
     "duration": 0.031401,
     "end_time": "2022-07-05T08:57:23.515101",
     "exception": false,
     "start_time": "2022-07-05T08:57:23.483700",
     "status": "completed"
    },
    "tags": []
   },
   "source": [
    "**Data Preprocessing**"
   ]
  },
  {
   "cell_type": "code",
   "execution_count": 15,
   "id": "9371b3cd",
   "metadata": {
    "execution": {
     "iopub.execute_input": "2022-07-05T08:57:23.590669Z",
     "iopub.status.busy": "2022-07-05T08:57:23.590035Z",
     "iopub.status.idle": "2022-07-05T08:57:24.049374Z",
     "shell.execute_reply": "2022-07-05T08:57:24.050187Z",
     "shell.execute_reply.started": "2022-07-05T08:51:45.948496Z"
    },
    "papermill": {
     "duration": 0.502897,
     "end_time": "2022-07-05T08:57:24.050344",
     "exception": false,
     "start_time": "2022-07-05T08:57:23.547447",
     "status": "completed"
    },
    "tags": []
   },
   "outputs": [
    {
     "name": "stdout",
     "output_type": "stream",
     "text": [
      "[nltk_data] Downloading package stopwords to /usr/share/nltk_data...\n",
      "[nltk_data]   Unzipping corpora/stopwords.zip.\n"
     ]
    },
    {
     "data": {
      "text/plain": [
       "True"
      ]
     },
     "execution_count": 15,
     "metadata": {},
     "output_type": "execute_result"
    }
   ],
   "source": [
    "nltk.download('stopwords')"
   ]
  },
  {
   "cell_type": "code",
   "execution_count": 16,
   "id": "445ca075",
   "metadata": {
    "execution": {
     "iopub.execute_input": "2022-07-05T08:57:24.121248Z",
     "iopub.status.busy": "2022-07-05T08:57:24.120430Z",
     "iopub.status.idle": "2022-07-05T08:57:24.123834Z",
     "shell.execute_reply": "2022-07-05T08:57:24.124324Z",
     "shell.execute_reply.started": "2022-07-05T08:51:45.959121Z"
    },
    "papermill": {
     "duration": 0.040763,
     "end_time": "2022-07-05T08:57:24.124454",
     "exception": false,
     "start_time": "2022-07-05T08:57:24.083691",
     "status": "completed"
    },
    "tags": []
   },
   "outputs": [],
   "source": [
    "from nltk.corpus import stopwords\n",
    "stopwords = set(stopwords.words('english'))"
   ]
  },
  {
   "cell_type": "code",
   "execution_count": 17,
   "id": "92621440",
   "metadata": {
    "execution": {
     "iopub.execute_input": "2022-07-05T08:57:24.216806Z",
     "iopub.status.busy": "2022-07-05T08:57:24.211723Z",
     "iopub.status.idle": "2022-07-05T08:57:30.018397Z",
     "shell.execute_reply": "2022-07-05T08:57:30.017861Z",
     "shell.execute_reply.started": "2022-07-05T08:51:45.970262Z"
    },
    "papermill": {
     "duration": 5.861916,
     "end_time": "2022-07-05T08:57:30.018535",
     "exception": false,
     "start_time": "2022-07-05T08:57:24.156619",
     "status": "completed"
    },
    "tags": []
   },
   "outputs": [],
   "source": [
    "ps = PorterStemmer()\n",
    "corpus = []\n",
    "for i in range(0, len(messages)):\n",
    "    review = re.sub('[^a-zA-Z]', ' ', messages['merged'][i])\n",
    "    review = review.lower()\n",
    "    review = review.split()\n",
    "    \n",
    "    review = [ps.stem(word) for word in review if not word in stopwords]\n",
    "    review = ' '.join(review)\n",
    "    corpus.append(review)"
   ]
  },
  {
   "cell_type": "code",
   "execution_count": 18,
   "id": "f9bc1899",
   "metadata": {
    "execution": {
     "iopub.execute_input": "2022-07-05T08:57:30.088796Z",
     "iopub.status.busy": "2022-07-05T08:57:30.088102Z",
     "iopub.status.idle": "2022-07-05T08:57:30.090788Z",
     "shell.execute_reply": "2022-07-05T08:57:30.091225Z",
     "shell.execute_reply.started": "2022-07-05T08:51:51.600272Z"
    },
    "papermill": {
     "duration": 0.039792,
     "end_time": "2022-07-05T08:57:30.091355",
     "exception": false,
     "start_time": "2022-07-05T08:57:30.051563",
     "status": "completed"
    },
    "tags": []
   },
   "outputs": [
    {
     "data": {
      "text/plain": [
       "'flynn hillari clinton big woman campu breitbart daniel j flynn'"
      ]
     },
     "execution_count": 18,
     "metadata": {},
     "output_type": "execute_result"
    }
   ],
   "source": [
    "corpus[1]"
   ]
  },
  {
   "cell_type": "code",
   "execution_count": 19,
   "id": "5238ba1a",
   "metadata": {
    "execution": {
     "iopub.execute_input": "2022-07-05T08:57:30.195249Z",
     "iopub.status.busy": "2022-07-05T08:57:30.162780Z",
     "iopub.status.idle": "2022-07-05T08:57:30.397216Z",
     "shell.execute_reply": "2022-07-05T08:57:30.397636Z",
     "shell.execute_reply.started": "2022-07-05T08:51:51.609497Z"
    },
    "papermill": {
     "duration": 0.273682,
     "end_time": "2022-07-05T08:57:30.397779",
     "exception": false,
     "start_time": "2022-07-05T08:57:30.124097",
     "status": "completed"
    },
    "tags": []
   },
   "outputs": [
    {
     "data": {
      "text/plain": [
       "[2472, 3012, 4466, 1787, 3599, 3427, 1046, 1823, 3096, 296, 1296, 452]"
      ]
     },
     "execution_count": 19,
     "metadata": {},
     "output_type": "execute_result"
    }
   ],
   "source": [
    "voc_size = 5000\n",
    "onehot_repre = [one_hot(words, voc_size) for words in corpus]\n",
    "onehot_repre[0]"
   ]
  },
  {
   "cell_type": "markdown",
   "id": "28a717fa",
   "metadata": {
    "papermill": {
     "duration": 0.032947,
     "end_time": "2022-07-05T08:57:30.464286",
     "exception": false,
     "start_time": "2022-07-05T08:57:30.431339",
     "status": "completed"
    },
    "tags": []
   },
   "source": [
    "As you can see we stemmed the data and change the data into numerical representation"
   ]
  },
  {
   "cell_type": "markdown",
   "id": "549871f0",
   "metadata": {
    "papermill": {
     "duration": 0.036995,
     "end_time": "2022-07-05T08:57:30.534369",
     "exception": false,
     "start_time": "2022-07-05T08:57:30.497374",
     "status": "completed"
    },
    "tags": []
   },
   "source": [
    "## Word Embedding"
   ]
  },
  {
   "cell_type": "code",
   "execution_count": 20,
   "id": "3918cb44",
   "metadata": {
    "execution": {
     "iopub.execute_input": "2022-07-05T08:57:30.608973Z",
     "iopub.status.busy": "2022-07-05T08:57:30.608183Z",
     "iopub.status.idle": "2022-07-05T08:57:30.732174Z",
     "shell.execute_reply": "2022-07-05T08:57:30.731413Z",
     "shell.execute_reply.started": "2022-07-05T08:51:51.859783Z"
    },
    "papermill": {
     "duration": 0.163773,
     "end_time": "2022-07-05T08:57:30.732351",
     "exception": false,
     "start_time": "2022-07-05T08:57:30.568578",
     "status": "completed"
    },
    "tags": []
   },
   "outputs": [
    {
     "name": "stdout",
     "output_type": "stream",
     "text": [
      "[   0    0    0    0    0    0    0    0 2472 3012 4466 1787 3599 3427\n",
      " 1046 1823 3096  296 1296  452]\n"
     ]
    }
   ],
   "source": [
    "sent_length = 20\n",
    "embedded_docs = pad_sequences(onehot_repre, padding='pre', maxlen=sent_length)\n",
    "print(embedded_docs[0])"
   ]
  },
  {
   "cell_type": "markdown",
   "id": "640a3ff6",
   "metadata": {
    "papermill": {
     "duration": 0.033265,
     "end_time": "2022-07-05T08:57:30.799735",
     "exception": false,
     "start_time": "2022-07-05T08:57:30.766470",
     "status": "completed"
    },
    "tags": []
   },
   "source": [
    "**In above cell we change every sentence into 20 words, if the sentence is less then 20 words then we add zeros at the start.**"
   ]
  },
  {
   "cell_type": "markdown",
   "id": "0f22d6d0",
   "metadata": {
    "papermill": {
     "duration": 0.03315,
     "end_time": "2022-07-05T08:57:30.866449",
     "exception": false,
     "start_time": "2022-07-05T08:57:30.833299",
     "status": "completed"
    },
    "tags": []
   },
   "source": [
    "## Creating a Model"
   ]
  },
  {
   "cell_type": "code",
   "execution_count": 21,
   "id": "58dfff01",
   "metadata": {
    "execution": {
     "iopub.execute_input": "2022-07-05T08:57:30.939972Z",
     "iopub.status.busy": "2022-07-05T08:57:30.939424Z",
     "iopub.status.idle": "2022-07-05T08:57:33.937609Z",
     "shell.execute_reply": "2022-07-05T08:57:33.938029Z",
     "shell.execute_reply.started": "2022-07-05T08:51:52.027288Z"
    },
    "papermill": {
     "duration": 3.037406,
     "end_time": "2022-07-05T08:57:33.938182",
     "exception": false,
     "start_time": "2022-07-05T08:57:30.900776",
     "status": "completed"
    },
    "tags": []
   },
   "outputs": [
    {
     "name": "stderr",
     "output_type": "stream",
     "text": [
      "2022-07-05 08:57:31.021264: I tensorflow/stream_executor/cuda/cuda_gpu_executor.cc:937] successful NUMA node read from SysFS had negative value (-1), but there must be at least one NUMA node, so returning NUMA node zero\n",
      "2022-07-05 08:57:31.125801: I tensorflow/stream_executor/cuda/cuda_gpu_executor.cc:937] successful NUMA node read from SysFS had negative value (-1), but there must be at least one NUMA node, so returning NUMA node zero\n",
      "2022-07-05 08:57:31.126584: I tensorflow/stream_executor/cuda/cuda_gpu_executor.cc:937] successful NUMA node read from SysFS had negative value (-1), but there must be at least one NUMA node, so returning NUMA node zero\n",
      "2022-07-05 08:57:31.128460: I tensorflow/core/platform/cpu_feature_guard.cc:142] This TensorFlow binary is optimized with oneAPI Deep Neural Network Library (oneDNN) to use the following CPU instructions in performance-critical operations:  AVX2 AVX512F FMA\n",
      "To enable them in other operations, rebuild TensorFlow with the appropriate compiler flags.\n",
      "2022-07-05 08:57:31.129668: I tensorflow/stream_executor/cuda/cuda_gpu_executor.cc:937] successful NUMA node read from SysFS had negative value (-1), but there must be at least one NUMA node, so returning NUMA node zero\n",
      "2022-07-05 08:57:31.130425: I tensorflow/stream_executor/cuda/cuda_gpu_executor.cc:937] successful NUMA node read from SysFS had negative value (-1), but there must be at least one NUMA node, so returning NUMA node zero\n",
      "2022-07-05 08:57:31.131108: I tensorflow/stream_executor/cuda/cuda_gpu_executor.cc:937] successful NUMA node read from SysFS had negative value (-1), but there must be at least one NUMA node, so returning NUMA node zero\n",
      "2022-07-05 08:57:33.329768: I tensorflow/stream_executor/cuda/cuda_gpu_executor.cc:937] successful NUMA node read from SysFS had negative value (-1), but there must be at least one NUMA node, so returning NUMA node zero\n",
      "2022-07-05 08:57:33.330648: I tensorflow/stream_executor/cuda/cuda_gpu_executor.cc:937] successful NUMA node read from SysFS had negative value (-1), but there must be at least one NUMA node, so returning NUMA node zero\n",
      "2022-07-05 08:57:33.331364: I tensorflow/stream_executor/cuda/cuda_gpu_executor.cc:937] successful NUMA node read from SysFS had negative value (-1), but there must be at least one NUMA node, so returning NUMA node zero\n",
      "2022-07-05 08:57:33.332007: I tensorflow/core/common_runtime/gpu/gpu_device.cc:1510] Created device /job:localhost/replica:0/task:0/device:GPU:0 with 15403 MB memory:  -> device: 0, name: Tesla P100-PCIE-16GB, pci bus id: 0000:00:04.0, compute capability: 6.0\n"
     ]
    },
    {
     "name": "stdout",
     "output_type": "stream",
     "text": [
      "Model: \"sequential\"\n",
      "_________________________________________________________________\n",
      "Layer (type)                 Output Shape              Param #   \n",
      "=================================================================\n",
      "embedding (Embedding)        (None, 20, 40)            200000    \n",
      "_________________________________________________________________\n",
      "lstm (LSTM)                  (None, 100)               56400     \n",
      "_________________________________________________________________\n",
      "dense (Dense)                (None, 1)                 101       \n",
      "=================================================================\n",
      "Total params: 256,501\n",
      "Trainable params: 256,501\n",
      "Non-trainable params: 0\n",
      "_________________________________________________________________\n",
      "None\n"
     ]
    }
   ],
   "source": [
    "embedding_vector_features = 40\n",
    "model = Sequential()\n",
    "model.add(Embedding(voc_size, embedding_vector_features, input_length=sent_length))\n",
    "model.add(LSTM(100))\n",
    "model.add(Dense(1, activation='sigmoid'))\n",
    "model.compile(loss='binary_crossentropy', optimizer='adam', metrics=['accuracy'])\n",
    "print(model.summary())\n"
   ]
  },
  {
   "cell_type": "code",
   "execution_count": 22,
   "id": "9f55f5cd",
   "metadata": {
    "execution": {
     "iopub.execute_input": "2022-07-05T08:57:34.014341Z",
     "iopub.status.busy": "2022-07-05T08:57:34.013287Z",
     "iopub.status.idle": "2022-07-05T08:57:34.017572Z",
     "shell.execute_reply": "2022-07-05T08:57:34.017060Z",
     "shell.execute_reply.started": "2022-07-05T08:51:53.947742Z"
    },
    "papermill": {
     "duration": 0.045063,
     "end_time": "2022-07-05T08:57:34.017695",
     "exception": false,
     "start_time": "2022-07-05T08:57:33.972632",
     "status": "completed"
    },
    "tags": []
   },
   "outputs": [],
   "source": [
    "x_final = np.array(embedded_docs)\n",
    "y_final = np.array(Y)"
   ]
  },
  {
   "cell_type": "code",
   "execution_count": 23,
   "id": "e81a94e2",
   "metadata": {
    "execution": {
     "iopub.execute_input": "2022-07-05T08:57:34.093561Z",
     "iopub.status.busy": "2022-07-05T08:57:34.092654Z",
     "iopub.status.idle": "2022-07-05T08:57:34.095716Z",
     "shell.execute_reply": "2022-07-05T08:57:34.096157Z",
     "shell.execute_reply.started": "2022-07-05T08:51:53.956813Z"
    },
    "papermill": {
     "duration": 0.043105,
     "end_time": "2022-07-05T08:57:34.096291",
     "exception": false,
     "start_time": "2022-07-05T08:57:34.053186",
     "status": "completed"
    },
    "tags": []
   },
   "outputs": [
    {
     "data": {
      "text/plain": [
       "((18285, 20), (18285,))"
      ]
     },
     "execution_count": 23,
     "metadata": {},
     "output_type": "execute_result"
    }
   ],
   "source": [
    "x_final.shape, y_final.shape"
   ]
  },
  {
   "cell_type": "markdown",
   "id": "249bd909",
   "metadata": {
    "papermill": {
     "duration": 0.034196,
     "end_time": "2022-07-05T08:57:34.164981",
     "exception": false,
     "start_time": "2022-07-05T08:57:34.130785",
     "status": "completed"
    },
    "tags": []
   },
   "source": [
    "### Split the Data into Train and Test"
   ]
  },
  {
   "cell_type": "code",
   "execution_count": 24,
   "id": "d186ed5a",
   "metadata": {
    "execution": {
     "iopub.execute_input": "2022-07-05T08:57:34.241619Z",
     "iopub.status.busy": "2022-07-05T08:57:34.240801Z",
     "iopub.status.idle": "2022-07-05T08:57:34.246344Z",
     "shell.execute_reply": "2022-07-05T08:57:34.245865Z",
     "shell.execute_reply.started": "2022-07-05T08:51:53.965115Z"
    },
    "papermill": {
     "duration": 0.047035,
     "end_time": "2022-07-05T08:57:34.246457",
     "exception": false,
     "start_time": "2022-07-05T08:57:34.199422",
     "status": "completed"
    },
    "tags": []
   },
   "outputs": [],
   "source": [
    "from sklearn.model_selection import train_test_split\n",
    "X_train, X_test, y_train, y_test = train_test_split(x_final, y_final, test_size=0.1, random_state=42)"
   ]
  },
  {
   "cell_type": "markdown",
   "id": "0e023fb4",
   "metadata": {
    "papermill": {
     "duration": 0.034281,
     "end_time": "2022-07-05T08:57:34.315078",
     "exception": false,
     "start_time": "2022-07-05T08:57:34.280797",
     "status": "completed"
    },
    "tags": []
   },
   "source": [
    "### Model Training"
   ]
  },
  {
   "cell_type": "code",
   "execution_count": 25,
   "id": "b2a06275",
   "metadata": {
    "execution": {
     "iopub.execute_input": "2022-07-05T08:57:34.389896Z",
     "iopub.status.busy": "2022-07-05T08:57:34.389089Z",
     "iopub.status.idle": "2022-07-05T08:58:16.927108Z",
     "shell.execute_reply": "2022-07-05T08:58:16.927536Z",
     "shell.execute_reply.started": "2022-07-05T08:51:53.978269Z"
    },
    "papermill": {
     "duration": 42.577939,
     "end_time": "2022-07-05T08:58:16.927687",
     "exception": false,
     "start_time": "2022-07-05T08:57:34.349748",
     "status": "completed"
    },
    "tags": []
   },
   "outputs": [
    {
     "name": "stderr",
     "output_type": "stream",
     "text": [
      "2022-07-05 08:57:34.436112: I tensorflow/compiler/mlir/mlir_graph_optimization_pass.cc:185] None of the MLIR Optimization Passes are enabled (registered 2)\n"
     ]
    },
    {
     "name": "stdout",
     "output_type": "stream",
     "text": [
      "Epoch 1/20\n"
     ]
    },
    {
     "name": "stderr",
     "output_type": "stream",
     "text": [
      "2022-07-05 08:57:36.668307: I tensorflow/stream_executor/cuda/cuda_dnn.cc:369] Loaded cuDNN version 8005\n"
     ]
    },
    {
     "name": "stdout",
     "output_type": "stream",
     "text": [
      "258/258 [==============================] - 5s 7ms/step - loss: 0.2043 - accuracy: 0.9150 - val_loss: 0.0362 - val_accuracy: 0.9874\n",
      "Epoch 2/20\n",
      "258/258 [==============================] - 1s 5ms/step - loss: 0.0261 - accuracy: 0.9921 - val_loss: 0.0410 - val_accuracy: 0.9858\n",
      "Epoch 3/20\n",
      "258/258 [==============================] - 1s 5ms/step - loss: 0.0105 - accuracy: 0.9971 - val_loss: 0.0308 - val_accuracy: 0.9896\n",
      "Epoch 4/20\n",
      "258/258 [==============================] - 1s 5ms/step - loss: 0.0062 - accuracy: 0.9987 - val_loss: 0.0205 - val_accuracy: 0.9934\n",
      "Epoch 5/20\n",
      "258/258 [==============================] - 1s 5ms/step - loss: 0.0029 - accuracy: 0.9993 - val_loss: 0.0226 - val_accuracy: 0.9896\n",
      "Epoch 6/20\n",
      "258/258 [==============================] - 1s 5ms/step - loss: 0.0011 - accuracy: 0.9999 - val_loss: 0.0119 - val_accuracy: 0.9951\n",
      "Epoch 7/20\n",
      "258/258 [==============================] - 1s 5ms/step - loss: 0.0015 - accuracy: 0.9996 - val_loss: 0.0193 - val_accuracy: 0.9918\n",
      "Epoch 8/20\n",
      "258/258 [==============================] - 1s 5ms/step - loss: 1.7354e-04 - accuracy: 1.0000 - val_loss: 0.0198 - val_accuracy: 0.9923\n",
      "Epoch 9/20\n",
      "258/258 [==============================] - 2s 7ms/step - loss: 6.0447e-05 - accuracy: 1.0000 - val_loss: 0.0242 - val_accuracy: 0.9907\n",
      "Epoch 10/20\n",
      "258/258 [==============================] - 1s 5ms/step - loss: 4.1534e-05 - accuracy: 1.0000 - val_loss: 0.0240 - val_accuracy: 0.9907\n",
      "Epoch 11/20\n",
      "258/258 [==============================] - 1s 5ms/step - loss: 3.1592e-05 - accuracy: 1.0000 - val_loss: 0.0243 - val_accuracy: 0.9907\n",
      "Epoch 12/20\n",
      "258/258 [==============================] - 1s 5ms/step - loss: 2.5029e-05 - accuracy: 1.0000 - val_loss: 0.0263 - val_accuracy: 0.9902\n",
      "Epoch 13/20\n",
      "258/258 [==============================] - 1s 5ms/step - loss: 2.0566e-05 - accuracy: 1.0000 - val_loss: 0.0270 - val_accuracy: 0.9896\n",
      "Epoch 14/20\n",
      "258/258 [==============================] - 1s 5ms/step - loss: 1.6912e-05 - accuracy: 1.0000 - val_loss: 0.0286 - val_accuracy: 0.9896\n",
      "Epoch 15/20\n",
      "258/258 [==============================] - 1s 5ms/step - loss: 1.4410e-05 - accuracy: 1.0000 - val_loss: 0.0288 - val_accuracy: 0.9891\n",
      "Epoch 16/20\n",
      "258/258 [==============================] - 1s 5ms/step - loss: 1.1576e-05 - accuracy: 1.0000 - val_loss: 0.0293 - val_accuracy: 0.9896\n",
      "Epoch 17/20\n",
      "258/258 [==============================] - 1s 6ms/step - loss: 9.6988e-06 - accuracy: 1.0000 - val_loss: 0.0315 - val_accuracy: 0.9896\n",
      "Epoch 18/20\n",
      "258/258 [==============================] - 1s 5ms/step - loss: 8.5021e-06 - accuracy: 1.0000 - val_loss: 0.0308 - val_accuracy: 0.9896\n",
      "Epoch 19/20\n",
      "258/258 [==============================] - 1s 5ms/step - loss: 7.1192e-06 - accuracy: 1.0000 - val_loss: 0.0331 - val_accuracy: 0.9896\n",
      "Epoch 20/20\n",
      "258/258 [==============================] - 1s 5ms/step - loss: 6.0521e-06 - accuracy: 1.0000 - val_loss: 0.0336 - val_accuracy: 0.9896\n"
     ]
    },
    {
     "data": {
      "text/plain": [
       "<keras.callbacks.History at 0x7fdae81c9850>"
      ]
     },
     "execution_count": 25,
     "metadata": {},
     "output_type": "execute_result"
    }
   ],
   "source": [
    "model.fit(X_train, y_train, validation_data=(X_test, y_test), epochs=20, batch_size=64)"
   ]
  },
  {
   "cell_type": "markdown",
   "id": "95b3cc5d",
   "metadata": {
    "papermill": {
     "duration": 0.172932,
     "end_time": "2022-07-05T08:58:17.268139",
     "exception": false,
     "start_time": "2022-07-05T08:58:17.095207",
     "status": "completed"
    },
    "tags": []
   },
   "source": [
    "### Performance Metrics and Accuracy"
   ]
  },
  {
   "cell_type": "code",
   "execution_count": 26,
   "id": "728b21c4",
   "metadata": {
    "execution": {
     "iopub.execute_input": "2022-07-05T08:58:17.598678Z",
     "iopub.status.busy": "2022-07-05T08:58:17.597878Z",
     "iopub.status.idle": "2022-07-05T08:58:18.005779Z",
     "shell.execute_reply": "2022-07-05T08:58:18.006811Z",
     "shell.execute_reply.started": "2022-07-05T08:52:22.191909Z"
    },
    "papermill": {
     "duration": 0.57707,
     "end_time": "2022-07-05T08:58:18.006998",
     "exception": false,
     "start_time": "2022-07-05T08:58:17.429928",
     "status": "completed"
    },
    "tags": []
   },
   "outputs": [],
   "source": [
    "classes_x = (model.predict(X_test) > 0.5).astype(\"int32\")"
   ]
  },
  {
   "cell_type": "markdown",
   "id": "33987160",
   "metadata": {
    "papermill": {
     "duration": 0.160883,
     "end_time": "2022-07-05T08:58:18.330662",
     "exception": false,
     "start_time": "2022-07-05T08:58:18.169779",
     "status": "completed"
    },
    "tags": []
   },
   "source": [
    "**Confusion Matrix**"
   ]
  },
  {
   "cell_type": "code",
   "execution_count": 27,
   "id": "2a6751c2",
   "metadata": {
    "execution": {
     "iopub.execute_input": "2022-07-05T08:58:18.657773Z",
     "iopub.status.busy": "2022-07-05T08:58:18.656908Z",
     "iopub.status.idle": "2022-07-05T08:58:18.663841Z",
     "shell.execute_reply": "2022-07-05T08:58:18.664291Z",
     "shell.execute_reply.started": "2022-07-05T08:52:22.625359Z"
    },
    "papermill": {
     "duration": 0.172234,
     "end_time": "2022-07-05T08:58:18.664428",
     "exception": false,
     "start_time": "2022-07-05T08:58:18.492194",
     "status": "completed"
    },
    "tags": []
   },
   "outputs": [
    {
     "data": {
      "text/plain": [
       "array([[1028,    8],\n",
       "       [  11,  782]])"
      ]
     },
     "execution_count": 27,
     "metadata": {},
     "output_type": "execute_result"
    }
   ],
   "source": [
    "from sklearn.metrics import confusion_matrix\n",
    "confusion_matrix(y_test, classes_x)"
   ]
  },
  {
   "cell_type": "markdown",
   "id": "c0ac2839",
   "metadata": {
    "papermill": {
     "duration": 0.161979,
     "end_time": "2022-07-05T08:58:18.991715",
     "exception": false,
     "start_time": "2022-07-05T08:58:18.829736",
     "status": "completed"
    },
    "tags": []
   },
   "source": [
    "**Accuracy Score**"
   ]
  },
  {
   "cell_type": "code",
   "execution_count": 28,
   "id": "a1b0f8d1",
   "metadata": {
    "execution": {
     "iopub.execute_input": "2022-07-05T08:58:19.320305Z",
     "iopub.status.busy": "2022-07-05T08:58:19.319061Z",
     "iopub.status.idle": "2022-07-05T08:58:19.323045Z",
     "shell.execute_reply": "2022-07-05T08:58:19.322596Z",
     "shell.execute_reply.started": "2022-07-05T08:52:22.639657Z"
    },
    "papermill": {
     "duration": 0.171559,
     "end_time": "2022-07-05T08:58:19.323165",
     "exception": false,
     "start_time": "2022-07-05T08:58:19.151606",
     "status": "completed"
    },
    "tags": []
   },
   "outputs": [
    {
     "name": "stdout",
     "output_type": "stream",
     "text": [
      "0.9896118097320941\n"
     ]
    }
   ],
   "source": [
    "from sklearn.metrics import accuracy_score\n",
    "score_0 = accuracy_score(y_test,classes_x)\n",
    "print(score_0)"
   ]
  },
  {
   "cell_type": "code",
   "execution_count": 29,
   "id": "965f70df",
   "metadata": {
    "execution": {
     "iopub.execute_input": "2022-07-05T08:58:19.650790Z",
     "iopub.status.busy": "2022-07-05T08:58:19.649877Z",
     "iopub.status.idle": "2022-07-05T08:58:19.827898Z",
     "shell.execute_reply": "2022-07-05T08:58:19.828620Z",
     "shell.execute_reply.started": "2022-07-05T08:52:22.648288Z"
    },
    "papermill": {
     "duration": 0.345122,
     "end_time": "2022-07-05T08:58:19.828857",
     "exception": false,
     "start_time": "2022-07-05T08:58:19.483735",
     "status": "completed"
    },
    "tags": []
   },
   "outputs": [
    {
     "name": "stdout",
     "output_type": "stream",
     "text": [
      "0.6801530891197376\n"
     ]
    }
   ],
   "source": [
    "model_1 = LogisticRegression(max_iter=900)\n",
    "model_1.fit(X_train,y_train)\n",
    "pred_1 = model_1.predict(X_test)\n",
    "# cr1    = classification_report(y_test,pred_1)\n",
    "# print(cr1)\n",
    "score_1 = accuracy_score(y_test,pred_1)\n",
    "print(score_1)"
   ]
  },
  {
   "cell_type": "code",
   "execution_count": 30,
   "id": "5c6edecc",
   "metadata": {
    "execution": {
     "iopub.execute_input": "2022-07-05T08:58:20.225995Z",
     "iopub.status.busy": "2022-07-05T08:58:20.225006Z",
     "iopub.status.idle": "2022-07-05T08:58:20.235992Z",
     "shell.execute_reply": "2022-07-05T08:58:20.236422Z",
     "shell.execute_reply.started": "2022-07-05T08:52:22.869877Z"
    },
    "papermill": {
     "duration": 0.187068,
     "end_time": "2022-07-05T08:58:20.236554",
     "exception": false,
     "start_time": "2022-07-05T08:58:20.049486",
     "status": "completed"
    },
    "tags": []
   },
   "outputs": [
    {
     "name": "stdout",
     "output_type": "stream",
     "text": [
      "0.6418808091853472\n"
     ]
    }
   ],
   "source": [
    "model_2 = MultinomialNB()\n",
    "model_2.fit(X_train,y_train)\n",
    "pred_2 = model_2.predict(X_test)\n",
    "# cr2    = classification_report(y_test,pred_2)\n",
    "# print(cr2)\n",
    "score_2 = accuracy_score(y_test,pred_2)\n",
    "print(score_2)"
   ]
  },
  {
   "cell_type": "code",
   "execution_count": 31,
   "id": "f5ca981f",
   "metadata": {
    "execution": {
     "iopub.execute_input": "2022-07-05T08:58:20.567300Z",
     "iopub.status.busy": "2022-07-05T08:58:20.566509Z",
     "iopub.status.idle": "2022-07-05T08:58:20.721194Z",
     "shell.execute_reply": "2022-07-05T08:58:20.720447Z",
     "shell.execute_reply.started": "2022-07-05T08:52:22.889133Z"
    },
    "papermill": {
     "duration": 0.323252,
     "end_time": "2022-07-05T08:58:20.721322",
     "exception": false,
     "start_time": "2022-07-05T08:58:20.398070",
     "status": "completed"
    },
    "tags": []
   },
   "outputs": [
    {
     "name": "stdout",
     "output_type": "stream",
     "text": [
      "0.8944778567523237\n"
     ]
    }
   ],
   "source": [
    "model_3 = DecisionTreeClassifier()\n",
    "model_3.fit(X_train,y_train)\n",
    "pred_3 = model_3.predict(X_test)\n",
    "# cr3    = classification_report(y_test,pred_3)\n",
    "# print(cr3)\n",
    "score_3 = accuracy_score(y_test,pred_3)\n",
    "print(score_3)"
   ]
  },
  {
   "cell_type": "code",
   "execution_count": 32,
   "id": "7357808f",
   "metadata": {
    "execution": {
     "iopub.execute_input": "2022-07-05T08:58:21.054163Z",
     "iopub.status.busy": "2022-07-05T08:58:21.053237Z",
     "iopub.status.idle": "2022-07-05T08:58:24.411610Z",
     "shell.execute_reply": "2022-07-05T08:58:24.412218Z",
     "shell.execute_reply.started": "2022-07-05T08:52:23.090546Z"
    },
    "papermill": {
     "duration": 3.528209,
     "end_time": "2022-07-05T08:58:24.412410",
     "exception": false,
     "start_time": "2022-07-05T08:58:20.884201",
     "status": "completed"
    },
    "tags": []
   },
   "outputs": [
    {
     "name": "stdout",
     "output_type": "stream",
     "text": [
      "0.9048660470202297\n"
     ]
    }
   ],
   "source": [
    "model_4 = RandomForestClassifier()\n",
    "model_4.fit(X_train,y_train)\n",
    "pred_4 = model_4.predict(X_test)\n",
    "# cr4    = classification_report(y_test,pred_4)\n",
    "# print(cr4)\n",
    "score_4 = accuracy_score(y_test,pred_4)\n",
    "print(score_4)"
   ]
  },
  {
   "cell_type": "code",
   "execution_count": 33,
   "id": "f19233f8",
   "metadata": {
    "execution": {
     "iopub.execute_input": "2022-07-05T08:58:24.744391Z",
     "iopub.status.busy": "2022-07-05T08:58:24.743701Z",
     "iopub.status.idle": "2022-07-05T08:58:29.293474Z",
     "shell.execute_reply": "2022-07-05T08:58:29.294484Z",
     "shell.execute_reply.started": "2022-07-05T08:52:25.780975Z"
    },
    "papermill": {
     "duration": 4.718253,
     "end_time": "2022-07-05T08:58:29.294837",
     "exception": false,
     "start_time": "2022-07-05T08:58:24.576584",
     "status": "completed"
    },
    "tags": []
   },
   "outputs": [
    {
     "name": "stderr",
     "output_type": "stream",
     "text": [
      "/opt/conda/lib/python3.7/site-packages/xgboost/sklearn.py:1146: UserWarning: The use of label encoder in XGBClassifier is deprecated and will be removed in a future release. To remove this warning, do the following: 1) Pass option use_label_encoder=False when constructing XGBClassifier object; and 2) Encode your labels (y) as integers starting with 0, i.e. 0, 1, 2, ..., [num_class - 1].\n",
      "  warnings.warn(label_encoder_deprecation_msg, UserWarning)\n"
     ]
    },
    {
     "name": "stdout",
     "output_type": "stream",
     "text": [
      "[08:58:27] WARNING: ../src/learner.cc:1095: Starting in XGBoost 1.3.0, the default evaluation metric used with the objective 'binary:logistic' was changed from 'error' to 'logloss'. Explicitly set eval_metric if you'd like to restore the old behavior.\n",
      "0.9890650628758885\n"
     ]
    }
   ],
   "source": [
    "model_5 = XGBClassifier()\n",
    "model_5.fit(X_train,y_train)\n",
    "pred_5 = model_5.predict(X_test)\n",
    "# cr5    = classification_report(y_test,pred_5)\n",
    "# print(cr5)\n",
    "score_5 = accuracy_score(y_test,pred_5)\n",
    "print(score_5)"
   ]
  },
  {
   "cell_type": "code",
   "execution_count": 34,
   "id": "bb93a890",
   "metadata": {
    "execution": {
     "iopub.execute_input": "2022-07-05T08:58:29.809269Z",
     "iopub.status.busy": "2022-07-05T08:58:29.640003Z",
     "iopub.status.idle": "2022-07-05T08:58:31.695875Z",
     "shell.execute_reply": "2022-07-05T08:58:31.696491Z",
     "shell.execute_reply.started": "2022-07-05T08:52:27.991816Z"
    },
    "papermill": {
     "duration": 2.238459,
     "end_time": "2022-07-05T08:58:31.696689",
     "exception": false,
     "start_time": "2022-07-05T08:58:29.458230",
     "status": "completed"
    },
    "tags": []
   },
   "outputs": [
    {
     "name": "stdout",
     "output_type": "stream",
     "text": [
      "Learning rate set to 0.149025\n",
      "0:\tlearn: 0.5838711\ttotal: 66ms\tremaining: 13.1s\n",
      "1:\tlearn: 0.5281519\ttotal: 75.1ms\tremaining: 7.43s\n",
      "2:\tlearn: 0.4691876\ttotal: 83.7ms\tremaining: 5.5s\n",
      "3:\tlearn: 0.4309767\ttotal: 91.8ms\tremaining: 4.5s\n",
      "4:\tlearn: 0.3997451\ttotal: 100ms\tremaining: 3.91s\n",
      "5:\tlearn: 0.3907898\ttotal: 109ms\tremaining: 3.51s\n",
      "6:\tlearn: 0.3758978\ttotal: 118ms\tremaining: 3.24s\n",
      "7:\tlearn: 0.3621820\ttotal: 126ms\tremaining: 3.03s\n",
      "8:\tlearn: 0.3556023\ttotal: 135ms\tremaining: 2.87s\n",
      "9:\tlearn: 0.3452694\ttotal: 143ms\tremaining: 2.72s\n",
      "10:\tlearn: 0.3380355\ttotal: 152ms\tremaining: 2.6s\n",
      "11:\tlearn: 0.3314779\ttotal: 160ms\tremaining: 2.5s\n",
      "12:\tlearn: 0.3233392\ttotal: 168ms\tremaining: 2.41s\n",
      "13:\tlearn: 0.3159923\ttotal: 176ms\tremaining: 2.34s\n",
      "14:\tlearn: 0.3096679\ttotal: 184ms\tremaining: 2.27s\n",
      "15:\tlearn: 0.3018874\ttotal: 195ms\tremaining: 2.24s\n",
      "16:\tlearn: 0.2987713\ttotal: 204ms\tremaining: 2.2s\n",
      "17:\tlearn: 0.2930773\ttotal: 214ms\tremaining: 2.16s\n",
      "18:\tlearn: 0.2891599\ttotal: 222ms\tremaining: 2.12s\n",
      "19:\tlearn: 0.2846684\ttotal: 230ms\tremaining: 2.07s\n",
      "20:\tlearn: 0.2822868\ttotal: 239ms\tremaining: 2.03s\n",
      "21:\tlearn: 0.2772367\ttotal: 247ms\tremaining: 2s\n",
      "22:\tlearn: 0.2727329\ttotal: 256ms\tremaining: 1.97s\n",
      "23:\tlearn: 0.2670015\ttotal: 264ms\tremaining: 1.94s\n",
      "24:\tlearn: 0.2623677\ttotal: 273ms\tremaining: 1.91s\n",
      "25:\tlearn: 0.2597313\ttotal: 281ms\tremaining: 1.88s\n",
      "26:\tlearn: 0.2576058\ttotal: 289ms\tremaining: 1.85s\n",
      "27:\tlearn: 0.2549601\ttotal: 297ms\tremaining: 1.82s\n",
      "28:\tlearn: 0.2538669\ttotal: 305ms\tremaining: 1.8s\n",
      "29:\tlearn: 0.2511970\ttotal: 313ms\tremaining: 1.77s\n",
      "30:\tlearn: 0.2470573\ttotal: 322ms\tremaining: 1.75s\n",
      "31:\tlearn: 0.2453234\ttotal: 330ms\tremaining: 1.73s\n",
      "32:\tlearn: 0.2437427\ttotal: 338ms\tremaining: 1.71s\n",
      "33:\tlearn: 0.2407163\ttotal: 346ms\tremaining: 1.69s\n",
      "34:\tlearn: 0.2388475\ttotal: 355ms\tremaining: 1.68s\n",
      "35:\tlearn: 0.2379318\ttotal: 364ms\tremaining: 1.66s\n",
      "36:\tlearn: 0.2352613\ttotal: 372ms\tremaining: 1.64s\n",
      "37:\tlearn: 0.2331132\ttotal: 382ms\tremaining: 1.63s\n",
      "38:\tlearn: 0.2298664\ttotal: 390ms\tremaining: 1.61s\n",
      "39:\tlearn: 0.2287047\ttotal: 402ms\tremaining: 1.61s\n",
      "40:\tlearn: 0.2278014\ttotal: 410ms\tremaining: 1.59s\n",
      "41:\tlearn: 0.2262489\ttotal: 418ms\tremaining: 1.57s\n",
      "42:\tlearn: 0.2243675\ttotal: 427ms\tremaining: 1.56s\n",
      "43:\tlearn: 0.2228624\ttotal: 435ms\tremaining: 1.54s\n",
      "44:\tlearn: 0.2203787\ttotal: 444ms\tremaining: 1.53s\n",
      "45:\tlearn: 0.2169803\ttotal: 452ms\tremaining: 1.51s\n",
      "46:\tlearn: 0.2158003\ttotal: 460ms\tremaining: 1.5s\n",
      "47:\tlearn: 0.2145906\ttotal: 468ms\tremaining: 1.48s\n",
      "48:\tlearn: 0.2134866\ttotal: 476ms\tremaining: 1.47s\n",
      "49:\tlearn: 0.2128472\ttotal: 484ms\tremaining: 1.45s\n",
      "50:\tlearn: 0.2103705\ttotal: 493ms\tremaining: 1.44s\n",
      "51:\tlearn: 0.2082611\ttotal: 501ms\tremaining: 1.43s\n",
      "52:\tlearn: 0.2075882\ttotal: 510ms\tremaining: 1.41s\n",
      "53:\tlearn: 0.2064704\ttotal: 518ms\tremaining: 1.4s\n",
      "54:\tlearn: 0.2038043\ttotal: 526ms\tremaining: 1.39s\n",
      "55:\tlearn: 0.2024971\ttotal: 535ms\tremaining: 1.38s\n",
      "56:\tlearn: 0.2006148\ttotal: 545ms\tremaining: 1.37s\n",
      "57:\tlearn: 0.1986872\ttotal: 554ms\tremaining: 1.35s\n",
      "58:\tlearn: 0.1970326\ttotal: 562ms\tremaining: 1.34s\n",
      "59:\tlearn: 0.1947308\ttotal: 570ms\tremaining: 1.33s\n",
      "60:\tlearn: 0.1937569\ttotal: 579ms\tremaining: 1.32s\n",
      "61:\tlearn: 0.1928838\ttotal: 587ms\tremaining: 1.31s\n",
      "62:\tlearn: 0.1923241\ttotal: 595ms\tremaining: 1.29s\n",
      "63:\tlearn: 0.1909656\ttotal: 606ms\tremaining: 1.29s\n",
      "64:\tlearn: 0.1899404\ttotal: 615ms\tremaining: 1.28s\n",
      "65:\tlearn: 0.1892710\ttotal: 624ms\tremaining: 1.27s\n",
      "66:\tlearn: 0.1875932\ttotal: 633ms\tremaining: 1.25s\n",
      "67:\tlearn: 0.1856866\ttotal: 641ms\tremaining: 1.24s\n",
      "68:\tlearn: 0.1828103\ttotal: 649ms\tremaining: 1.23s\n",
      "69:\tlearn: 0.1798604\ttotal: 657ms\tremaining: 1.22s\n",
      "70:\tlearn: 0.1780444\ttotal: 665ms\tremaining: 1.21s\n",
      "71:\tlearn: 0.1754979\ttotal: 674ms\tremaining: 1.2s\n",
      "72:\tlearn: 0.1739450\ttotal: 682ms\tremaining: 1.19s\n",
      "73:\tlearn: 0.1717462\ttotal: 690ms\tremaining: 1.18s\n",
      "74:\tlearn: 0.1700852\ttotal: 699ms\tremaining: 1.17s\n",
      "75:\tlearn: 0.1680444\ttotal: 708ms\tremaining: 1.15s\n",
      "76:\tlearn: 0.1657743\ttotal: 716ms\tremaining: 1.14s\n",
      "77:\tlearn: 0.1647091\ttotal: 724ms\tremaining: 1.13s\n",
      "78:\tlearn: 0.1616158\ttotal: 732ms\tremaining: 1.12s\n",
      "79:\tlearn: 0.1609179\ttotal: 740ms\tremaining: 1.11s\n",
      "80:\tlearn: 0.1600090\ttotal: 748ms\tremaining: 1.1s\n",
      "81:\tlearn: 0.1594139\ttotal: 756ms\tremaining: 1.09s\n",
      "82:\tlearn: 0.1573651\ttotal: 765ms\tremaining: 1.08s\n",
      "83:\tlearn: 0.1550993\ttotal: 773ms\tremaining: 1.07s\n",
      "84:\tlearn: 0.1530077\ttotal: 782ms\tremaining: 1.06s\n",
      "85:\tlearn: 0.1516268\ttotal: 791ms\tremaining: 1.05s\n",
      "86:\tlearn: 0.1500108\ttotal: 800ms\tremaining: 1.04s\n",
      "87:\tlearn: 0.1490448\ttotal: 812ms\tremaining: 1.03s\n",
      "88:\tlearn: 0.1474127\ttotal: 821ms\tremaining: 1.02s\n",
      "89:\tlearn: 0.1460282\ttotal: 830ms\tremaining: 1.01s\n",
      "90:\tlearn: 0.1450553\ttotal: 838ms\tremaining: 1s\n",
      "91:\tlearn: 0.1433141\ttotal: 847ms\tremaining: 994ms\n",
      "92:\tlearn: 0.1418416\ttotal: 855ms\tremaining: 984ms\n",
      "93:\tlearn: 0.1405269\ttotal: 863ms\tremaining: 973ms\n",
      "94:\tlearn: 0.1388432\ttotal: 872ms\tremaining: 964ms\n",
      "95:\tlearn: 0.1375062\ttotal: 880ms\tremaining: 953ms\n",
      "96:\tlearn: 0.1369118\ttotal: 888ms\tremaining: 943ms\n",
      "97:\tlearn: 0.1351886\ttotal: 896ms\tremaining: 933ms\n",
      "98:\tlearn: 0.1340573\ttotal: 905ms\tremaining: 923ms\n",
      "99:\tlearn: 0.1328969\ttotal: 913ms\tremaining: 913ms\n",
      "100:\tlearn: 0.1316874\ttotal: 922ms\tremaining: 903ms\n",
      "101:\tlearn: 0.1310167\ttotal: 930ms\tremaining: 893ms\n",
      "102:\tlearn: 0.1297669\ttotal: 938ms\tremaining: 884ms\n",
      "103:\tlearn: 0.1284324\ttotal: 947ms\tremaining: 874ms\n",
      "104:\tlearn: 0.1278853\ttotal: 955ms\tremaining: 864ms\n",
      "105:\tlearn: 0.1274337\ttotal: 963ms\tremaining: 854ms\n",
      "106:\tlearn: 0.1255176\ttotal: 972ms\tremaining: 845ms\n",
      "107:\tlearn: 0.1238702\ttotal: 980ms\tremaining: 835ms\n",
      "108:\tlearn: 0.1232692\ttotal: 989ms\tremaining: 825ms\n",
      "109:\tlearn: 0.1225909\ttotal: 996ms\tremaining: 815ms\n",
      "110:\tlearn: 0.1219928\ttotal: 1s\tremaining: 806ms\n",
      "111:\tlearn: 0.1212962\ttotal: 1.01s\tremaining: 797ms\n",
      "112:\tlearn: 0.1201729\ttotal: 1.02s\tremaining: 788ms\n",
      "113:\tlearn: 0.1193081\ttotal: 1.03s\tremaining: 779ms\n",
      "114:\tlearn: 0.1187220\ttotal: 1.04s\tremaining: 770ms\n",
      "115:\tlearn: 0.1179373\ttotal: 1.05s\tremaining: 760ms\n",
      "116:\tlearn: 0.1173966\ttotal: 1.06s\tremaining: 751ms\n",
      "117:\tlearn: 0.1168680\ttotal: 1.07s\tremaining: 741ms\n",
      "118:\tlearn: 0.1160247\ttotal: 1.07s\tremaining: 731ms\n",
      "119:\tlearn: 0.1153846\ttotal: 1.08s\tremaining: 722ms\n",
      "120:\tlearn: 0.1142981\ttotal: 1.09s\tremaining: 713ms\n",
      "121:\tlearn: 0.1134606\ttotal: 1.1s\tremaining: 704ms\n",
      "122:\tlearn: 0.1126696\ttotal: 1.11s\tremaining: 695ms\n",
      "123:\tlearn: 0.1124136\ttotal: 1.12s\tremaining: 685ms\n",
      "124:\tlearn: 0.1119831\ttotal: 1.13s\tremaining: 676ms\n",
      "125:\tlearn: 0.1112482\ttotal: 1.13s\tremaining: 666ms\n",
      "126:\tlearn: 0.1109776\ttotal: 1.14s\tremaining: 657ms\n",
      "127:\tlearn: 0.1101775\ttotal: 1.15s\tremaining: 648ms\n",
      "128:\tlearn: 0.1089918\ttotal: 1.16s\tremaining: 639ms\n",
      "129:\tlearn: 0.1084086\ttotal: 1.17s\tremaining: 630ms\n",
      "130:\tlearn: 0.1077818\ttotal: 1.18s\tremaining: 621ms\n",
      "131:\tlearn: 0.1070648\ttotal: 1.19s\tremaining: 613ms\n",
      "132:\tlearn: 0.1064288\ttotal: 1.2s\tremaining: 604ms\n",
      "133:\tlearn: 0.1062959\ttotal: 1.21s\tremaining: 595ms\n",
      "134:\tlearn: 0.1059820\ttotal: 1.22s\tremaining: 587ms\n",
      "135:\tlearn: 0.1056098\ttotal: 1.23s\tremaining: 578ms\n",
      "136:\tlearn: 0.1048621\ttotal: 1.24s\tremaining: 568ms\n",
      "137:\tlearn: 0.1035788\ttotal: 1.24s\tremaining: 559ms\n",
      "138:\tlearn: 0.1024762\ttotal: 1.25s\tremaining: 550ms\n",
      "139:\tlearn: 0.1019878\ttotal: 1.26s\tremaining: 541ms\n",
      "140:\tlearn: 0.1014373\ttotal: 1.27s\tremaining: 532ms\n",
      "141:\tlearn: 0.1006526\ttotal: 1.28s\tremaining: 523ms\n",
      "142:\tlearn: 0.0995372\ttotal: 1.29s\tremaining: 514ms\n",
      "143:\tlearn: 0.0985769\ttotal: 1.3s\tremaining: 504ms\n",
      "144:\tlearn: 0.0981211\ttotal: 1.3s\tremaining: 495ms\n",
      "145:\tlearn: 0.0974953\ttotal: 1.31s\tremaining: 486ms\n",
      "146:\tlearn: 0.0965086\ttotal: 1.32s\tremaining: 476ms\n",
      "147:\tlearn: 0.0962043\ttotal: 1.33s\tremaining: 467ms\n",
      "148:\tlearn: 0.0957176\ttotal: 1.34s\tremaining: 458ms\n",
      "149:\tlearn: 0.0952882\ttotal: 1.34s\tremaining: 449ms\n",
      "150:\tlearn: 0.0946133\ttotal: 1.35s\tremaining: 439ms\n",
      "151:\tlearn: 0.0934806\ttotal: 1.36s\tremaining: 430ms\n",
      "152:\tlearn: 0.0926633\ttotal: 1.37s\tremaining: 421ms\n",
      "153:\tlearn: 0.0920587\ttotal: 1.38s\tremaining: 412ms\n",
      "154:\tlearn: 0.0915088\ttotal: 1.39s\tremaining: 403ms\n",
      "155:\tlearn: 0.0911092\ttotal: 1.4s\tremaining: 394ms\n",
      "156:\tlearn: 0.0907028\ttotal: 1.41s\tremaining: 385ms\n",
      "157:\tlearn: 0.0898452\ttotal: 1.41s\tremaining: 376ms\n",
      "158:\tlearn: 0.0892655\ttotal: 1.43s\tremaining: 368ms\n",
      "159:\tlearn: 0.0887317\ttotal: 1.43s\tremaining: 359ms\n",
      "160:\tlearn: 0.0883368\ttotal: 1.44s\tremaining: 350ms\n",
      "161:\tlearn: 0.0879210\ttotal: 1.45s\tremaining: 340ms\n",
      "162:\tlearn: 0.0876976\ttotal: 1.46s\tremaining: 331ms\n",
      "163:\tlearn: 0.0871717\ttotal: 1.47s\tremaining: 322ms\n",
      "164:\tlearn: 0.0865187\ttotal: 1.48s\tremaining: 313ms\n",
      "165:\tlearn: 0.0864401\ttotal: 1.49s\tremaining: 304ms\n",
      "166:\tlearn: 0.0856955\ttotal: 1.49s\tremaining: 295ms\n",
      "167:\tlearn: 0.0850190\ttotal: 1.5s\tremaining: 286ms\n",
      "168:\tlearn: 0.0845441\ttotal: 1.51s\tremaining: 277ms\n",
      "169:\tlearn: 0.0841787\ttotal: 1.52s\tremaining: 268ms\n",
      "170:\tlearn: 0.0839709\ttotal: 1.53s\tremaining: 259ms\n",
      "171:\tlearn: 0.0836970\ttotal: 1.54s\tremaining: 250ms\n",
      "172:\tlearn: 0.0835142\ttotal: 1.54s\tremaining: 241ms\n",
      "173:\tlearn: 0.0829241\ttotal: 1.55s\tremaining: 232ms\n",
      "174:\tlearn: 0.0823161\ttotal: 1.56s\tremaining: 223ms\n",
      "175:\tlearn: 0.0817760\ttotal: 1.57s\tremaining: 214ms\n",
      "176:\tlearn: 0.0811840\ttotal: 1.58s\tremaining: 205ms\n",
      "177:\tlearn: 0.0806307\ttotal: 1.59s\tremaining: 196ms\n",
      "178:\tlearn: 0.0799589\ttotal: 1.6s\tremaining: 187ms\n",
      "179:\tlearn: 0.0798231\ttotal: 1.6s\tremaining: 178ms\n",
      "180:\tlearn: 0.0796245\ttotal: 1.61s\tremaining: 169ms\n",
      "181:\tlearn: 0.0791011\ttotal: 1.62s\tremaining: 160ms\n",
      "182:\tlearn: 0.0783311\ttotal: 1.63s\tremaining: 152ms\n",
      "183:\tlearn: 0.0781829\ttotal: 1.64s\tremaining: 143ms\n",
      "184:\tlearn: 0.0780051\ttotal: 1.65s\tremaining: 134ms\n",
      "185:\tlearn: 0.0775502\ttotal: 1.66s\tremaining: 125ms\n",
      "186:\tlearn: 0.0769354\ttotal: 1.67s\tremaining: 116ms\n",
      "187:\tlearn: 0.0764352\ttotal: 1.67s\tremaining: 107ms\n",
      "188:\tlearn: 0.0761401\ttotal: 1.68s\tremaining: 98ms\n",
      "189:\tlearn: 0.0759831\ttotal: 1.69s\tremaining: 89ms\n",
      "190:\tlearn: 0.0758295\ttotal: 1.7s\tremaining: 80.1ms\n",
      "191:\tlearn: 0.0753312\ttotal: 1.71s\tremaining: 71.1ms\n",
      "192:\tlearn: 0.0745809\ttotal: 1.72s\tremaining: 62.2ms\n",
      "193:\tlearn: 0.0744754\ttotal: 1.72s\tremaining: 53.3ms\n",
      "194:\tlearn: 0.0737451\ttotal: 1.73s\tremaining: 44.4ms\n",
      "195:\tlearn: 0.0734916\ttotal: 1.74s\tremaining: 35.5ms\n",
      "196:\tlearn: 0.0734852\ttotal: 1.75s\tremaining: 26.6ms\n",
      "197:\tlearn: 0.0728895\ttotal: 1.75s\tremaining: 17.7ms\n",
      "198:\tlearn: 0.0724556\ttotal: 1.76s\tremaining: 8.86ms\n",
      "199:\tlearn: 0.0721711\ttotal: 1.77s\tremaining: 0us\n"
     ]
    }
   ],
   "source": [
    "model_6 = CatBoostClassifier(iterations=200)\n",
    "model_6.fit(X_train,y_train)\n",
    "pred_6 = model_6.predict(X_test)\n",
    "# cr6    = classification_report(y_test,pred_6)\n",
    "# print(cr6)\n",
    "score_6 = accuracy_score(y_test,pred_6)"
   ]
  },
  {
   "cell_type": "code",
   "execution_count": 35,
   "id": "db927116",
   "metadata": {
    "execution": {
     "iopub.execute_input": "2022-07-05T08:58:32.041448Z",
     "iopub.status.busy": "2022-07-05T08:58:32.039979Z",
     "iopub.status.idle": "2022-07-05T08:58:32.043915Z",
     "shell.execute_reply": "2022-07-05T08:58:32.043459Z",
     "shell.execute_reply.started": "2022-07-05T08:52:30.341650Z"
    },
    "papermill": {
     "duration": 0.182417,
     "end_time": "2022-07-05T08:58:32.044054",
     "exception": false,
     "start_time": "2022-07-05T08:58:31.861637",
     "status": "completed"
    },
    "tags": []
   },
   "outputs": [
    {
     "data": {
      "text/html": [
       "<div>\n",
       "<style scoped>\n",
       "    .dataframe tbody tr th:only-of-type {\n",
       "        vertical-align: middle;\n",
       "    }\n",
       "\n",
       "    .dataframe tbody tr th {\n",
       "        vertical-align: top;\n",
       "    }\n",
       "\n",
       "    .dataframe thead th {\n",
       "        text-align: right;\n",
       "    }\n",
       "</style>\n",
       "<table border=\"1\" class=\"dataframe\">\n",
       "  <thead>\n",
       "    <tr style=\"text-align: right;\">\n",
       "      <th></th>\n",
       "      <th>Model</th>\n",
       "      <th>Accuracy</th>\n",
       "    </tr>\n",
       "  </thead>\n",
       "  <tbody>\n",
       "    <tr>\n",
       "      <th>0</th>\n",
       "      <td>Logistic Regression</td>\n",
       "      <td>0.680153</td>\n",
       "    </tr>\n",
       "    <tr>\n",
       "      <th>1</th>\n",
       "      <td>Naive Bayes</td>\n",
       "      <td>0.641881</td>\n",
       "    </tr>\n",
       "    <tr>\n",
       "      <th>2</th>\n",
       "      <td>Decision Tree</td>\n",
       "      <td>0.894478</td>\n",
       "    </tr>\n",
       "    <tr>\n",
       "      <th>3</th>\n",
       "      <td>Random Forest</td>\n",
       "      <td>0.904866</td>\n",
       "    </tr>\n",
       "    <tr>\n",
       "      <th>4</th>\n",
       "      <td>XGBOOST</td>\n",
       "      <td>0.989065</td>\n",
       "    </tr>\n",
       "    <tr>\n",
       "      <th>5</th>\n",
       "      <td>CatBoost</td>\n",
       "      <td>0.979224</td>\n",
       "    </tr>\n",
       "    <tr>\n",
       "      <th>6</th>\n",
       "      <td>LSTM</td>\n",
       "      <td>0.989612</td>\n",
       "    </tr>\n",
       "  </tbody>\n",
       "</table>\n",
       "</div>"
      ],
      "text/plain": [
       "                 Model  Accuracy\n",
       "0  Logistic Regression  0.680153\n",
       "1          Naive Bayes  0.641881\n",
       "2        Decision Tree  0.894478\n",
       "3        Random Forest  0.904866\n",
       "4              XGBOOST  0.989065\n",
       "5             CatBoost  0.979224\n",
       "6                 LSTM  0.989612"
      ]
     },
     "execution_count": 35,
     "metadata": {},
     "output_type": "execute_result"
    }
   ],
   "source": [
    "results = pd.DataFrame([[\"Logistic Regression\",score_1],[\"Naive Bayes\",score_2],[\"Decision Tree\",score_3],\n",
    "                       [\"Random Forest\",score_4],[\"XGBOOST\",score_5],[\"CatBoost\",score_6],[\"LSTM\",score_0]],columns=[\"Model\",\"Accuracy\"])\n",
    "\n",
    "results"
   ]
  }
 ],
 "metadata": {
  "kernelspec": {
   "display_name": "Python 3",
   "language": "python",
   "name": "python3"
  },
  "language_info": {
   "codemirror_mode": {
    "name": "ipython",
    "version": 3
   },
   "file_extension": ".py",
   "mimetype": "text/x-python",
   "name": "python",
   "nbconvert_exporter": "python",
   "pygments_lexer": "ipython3",
   "version": "3.7.10"
  },
  "papermill": {
   "default_parameters": {},
   "duration": 92.698041,
   "end_time": "2022-07-05T08:58:35.980214",
   "environment_variables": {},
   "exception": null,
   "input_path": "__notebook__.ipynb",
   "output_path": "__notebook__.ipynb",
   "parameters": {},
   "start_time": "2022-07-05T08:57:03.282173",
   "version": "2.3.3"
  }
 },
 "nbformat": 4,
 "nbformat_minor": 5
}
